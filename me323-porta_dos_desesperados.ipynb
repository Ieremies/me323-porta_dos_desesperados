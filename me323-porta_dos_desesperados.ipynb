{
 "cells": [
  {
   "cell_type": "code",
   "execution_count": 17,
   "metadata": {},
   "outputs": [
    {
     "name": "stdout",
     "output_type": "stream",
     "text": [
      "Número de vezes para repetir o experimento: 100000\n",
      "Depois de repetir 100000,obtivemos:\n"
     ]
    },
    {
     "data": {
      "image/png": "[encoded data removed]",
      "text/plain": [
       "<Figure size 432x288 with 1 Axes>"
      ]
     },
     "metadata": {
      "needs_background": "light"
     },
     "output_type": "display_data"
    },
    {
     "data": {
      "image/png": "[encoded data removed]",
      "text/plain": [
       "<Figure size 432x288 with 1 Axes>"
      ]
     },
     "metadata": {
      "needs_background": "light"
     },
     "output_type": "display_data"
    }
   ],
   "source": [
    "from random import randint\n",
    "import matplotlib.pyplot as plt\n",
    "\n",
    "n = int(input(\"Número de vezes para repetir o experimento: \"))\n",
    "\n",
    "#vetores com a frequência acumulada de vitórias\n",
    "trocou = [0]\n",
    "n_trocou = [0]\n",
    "\n",
    "for i in range(1, n):\n",
    "    #colocamos o premio\n",
    "    premio = randint(0,2)\n",
    "\n",
    "    #escolhemos a porta\n",
    "    escolhido = randint(0,2)\n",
    "\n",
    "    #removemos uma porta (aleatória) vazia e que não tenhamos escolhido\n",
    "    removido = randint(0,2)\n",
    "    while removido == escolhido or removido == premio:\n",
    "        removido = randint(0,3)\n",
    "\n",
    "    #troca = 1, não troca = 0\n",
    "    if randint(0,1):\n",
    "        #decidimos para qual ele vai mudar\n",
    "        #impedindo que ele mude para o que foi removido\n",
    "        if removido == 0:\n",
    "            if escolhido == 1:\n",
    "                escolhido = 2\n",
    "            else:\n",
    "                escolhido = 1\n",
    "        elif removido == 1:\n",
    "            if escolhido == 0:\n",
    "                escolhido = 2\n",
    "            else:\n",
    "                escolhido = 0\n",
    "        else:\n",
    "            if escolhido == 0:\n",
    "                escolhido = 1\n",
    "            else:\n",
    "                escolhido = 0\n",
    "\n",
    "        #verificamos se ele ganhou\n",
    "        if escolhido == premio:\n",
    "            trocou.append(trocou[-1]+ 1)\n",
    "        else:\n",
    "            trocou.append(trocou[-1])\n",
    "\n",
    "    #caso ele não tenha trocado de porta, verificamos se ele ganhou\n",
    "    else:\n",
    "        if escolhido == premio:\n",
    "            n_trocou.append(n_trocou[-1] + 1)\n",
    "        else:\n",
    "            n_trocou.append(n_trocou[-1])\n",
    "\n",
    "#calcular a frequencia acumulada em cada caso\n",
    "for i in range(1, len(trocou)):\n",
    "    trocou[i] = trocou[i]/i\n",
    "for i in range(1, len(n_trocou)):\n",
    "    n_trocou[i] = n_trocou[i]/i\n",
    "            \n",
    "#impressão dos resultados\n",
    "print(\"Depois de repetir\", str(n) + \",obtivemos:\")\n",
    "plt.plot(trocou)\n",
    "plt.xlabel('repetições')\n",
    "plt.ylabel('freq. acumulada')\n",
    "plt.title(\"Vitórias trocando\")\n",
    "plt.axis([0.0, len(trocou), 0.0, 1.0])\n",
    "plt.show()\n",
    "#segundo grafico\n",
    "plt.plot(n_trocou)\n",
    "plt.xlabel('repetições')\n",
    "plt.ylabel('freq. acumulada')\n",
    "plt.title(\"Vitórias não trocando\")\n",
    "plt.axis([0.0, len(n_trocou), 0.0, 1.0])\n",
    "plt.show()"
   ]
  },
  {
   "cell_type": "code",
   "execution_count": null,
   "metadata": {},
   "outputs": [],
   "source": []
  },
  {
   "cell_type": "code",
   "execution_count": null,
   "metadata": {},
   "outputs": [],
   "source": []
  }
 ],
 "metadata": {
  "kernelspec": {
   "display_name": "Python 3",
   "language": "python",
   "name": "python3"
  },
  "language_info": {
   "codemirror_mode": {
    "name": "ipython",
    "version": 3
   },
   "file_extension": ".py",
   "mimetype": "text/x-python",
   "name": "python",
   "nbconvert_exporter": "python",
   "pygments_lexer": "ipython3",
   "version": "3.6.7"
  }
 },
 "nbformat": 4,
 "nbformat_minor": 2
}
